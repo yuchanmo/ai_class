{
  "nbformat": 4,
  "nbformat_minor": 0,
  "metadata": {
    "colab": {
      "name": "DP.ipynb",
      "version": "0.3.2",
      "provenance": [],
      "collapsed_sections": []
    },
    "kernelspec": {
      "name": "python3",
      "display_name": "Python 3"
    }
  },
  "cells": [
    {
      "metadata": {
        "id": "ZubEFKUqWVon",
        "colab_type": "text"
      },
      "cell_type": "markdown",
      "source": [
        "# Model-Based RL : Policy and Value Iteration using Dynamic Programming"
      ]
    },
    {
      "metadata": {
        "id": "rx3Z14pMlHc2",
        "colab_type": "code",
        "outputId": "2fd6425a-c0af-4bb6-907e-1af1760df0f5",
        "colab": {
          "base_uri": "https://localhost:8080/",
          "height": 34
        }
      },
      "cell_type": "code",
      "source": [
        "# Download scripts\n",
        "import urllib.request\n",
        "urllib.request.urlretrieve (\"https://gitlab.com/jongseokkim/rlplayground/raw/master/env/gridworld.py\", \"gridworld.py\")"
      ],
      "execution_count": 0,
      "outputs": [
        {
          "output_type": "execute_result",
          "data": {
            "text/plain": [
              "('gridworld.py', <http.client.HTTPMessage at 0x7faaba2293c8>)"
            ]
          },
          "metadata": {
            "tags": []
          },
          "execution_count": 30
        }
      ]
    },
    {
      "metadata": {
        "id": "fn_9KxVnqdh9",
        "colab_type": "code",
        "outputId": "c85a8ca0-b1df-4958-f66e-d6fc492b8cc7",
        "colab": {
          "base_uri": "https://localhost:8080/",
          "height": 51
        }
      },
      "cell_type": "code",
      "source": [
        "# Import dependencies\n",
        "import numpy as np\n",
        "import sys\n",
        "from gridworld import GridworldEnv\n",
        "env = GridworldEnv()\n",
        "print(\"# state:\", env.nS, \"# action:\", env.nA)\n",
        "state = 1 \n",
        "action = 3 # 0: Up, 1: Right, 2: Down, 3: Left\n",
        "print(env.P[state][action])"
      ],
      "execution_count": 0,
      "outputs": [
        {
          "output_type": "stream",
          "text": [
            "# state: 16 # action: 4\n",
            "[(1.0, 0, -1.0, True)]\n"
          ],
          "name": "stdout"
        }
      ]
    },
    {
      "metadata": {
        "id": "4ramEaw9lIEX",
        "colab_type": "text"
      },
      "cell_type": "markdown",
      "source": [
        "### Policy Evaluation"
      ]
    },
    {
      "metadata": {
        "id": "rtx6GJlJWE5H",
        "colab_type": "code",
        "colab": {}
      },
      "cell_type": "code",
      "source": [
        "def policy_eval(policy, env, discount_factor=1.0, theta=0.00001):\n",
        "    # Initialize value function\n",
        "    V = np.zeros(env.nS)\n",
        "    # Start iteration\n",
        "    while True:\n",
        "        delta = 0\n",
        "        for s in range(env.nS):\n",
        "            # Calculate new value\n",
        "            n_V = 0\n",
        "            for a, a_prob in enumerate(policy[s]):\n",
        "                for prob, n_s, reward, is_done in env.P[s][a]:\n",
        "                    n_V += a_prob * prob * (reward + discount_factor * V[n_s])\n",
        "            delta = max(delta, abs(V[s] - n_V))\n",
        "            # Update value\n",
        "            V[s] = n_V\n",
        "        if delta < theta:\n",
        "            break\n",
        "    return np.array(V)"
      ],
      "execution_count": 0,
      "outputs": []
    },
    {
      "metadata": {
        "id": "0R8_NxMgy9Fi",
        "colab_type": "code",
        "outputId": "61b967f1-9bbf-4493-e008-13d164606294",
        "colab": {
          "base_uri": "https://localhost:8080/",
          "height": 102
        }
      },
      "cell_type": "code",
      "source": [
        "# Main\n",
        "random_policy = np.ones([env.nS, env.nA]) / env.nA\n",
        "v = policy_eval(random_policy, env)\n",
        "print(\"Value Function:\")\n",
        "for i in range(4):\n",
        "    for j in range(4):\n",
        "        print('%5.1f '%v[i*4 + j], end =\"\")\n",
        "    print()"
      ],
      "execution_count": 0,
      "outputs": [
        {
          "output_type": "stream",
          "text": [
            "Value Function:\n",
            "  0.0 -14.0 -20.0 -22.0 \n",
            "-14.0 -18.0 -20.0 -20.0 \n",
            "-20.0 -20.0 -18.0 -14.0 \n",
            "-22.0 -20.0 -14.0   0.0 \n"
          ],
          "name": "stdout"
        }
      ]
    },
    {
      "metadata": {
        "id": "mP015Ss0y2V7",
        "colab_type": "text"
      },
      "cell_type": "markdown",
      "source": [
        "### Policy Iteration"
      ]
    },
    {
      "metadata": {
        "id": "WyMH1HJqrNjv",
        "colab_type": "code",
        "colab": {}
      },
      "cell_type": "code",
      "source": [
        "def policy_improvement(env, policy_eval_fn=policy_eval, discount_factor=1.0):\n",
        "    # Initialize policy\n",
        "    policy = np.ones([env.nS, env.nA]) / env.nA\n",
        "    # Start iteration\n",
        "    while True:\n",
        "        policy_stable = True\n",
        "        # Evaluate policy\n",
        "        V = policy_eval_fn(policy, env, discount_factor)\n",
        "        # Improve policy\n",
        "        for s in range(env.nS):\n",
        "            # Calculate Q function\n",
        "            q = np.zeros(env.nA)\n",
        "            for a in range(env.nA):\n",
        "                for prob, n_s, reward, is_done in env.P[s][a]:\n",
        "                    q[a] += prob * (reward + discount_factor * V[n_s])\n",
        "            best_q = np.argmax(q)\n",
        "            if best_q != np.argmax(policy[s]):\n",
        "                policy_stable = False\n",
        "            # Update policy\n",
        "            policy[s] = np.eye(env.nA)[best_q]\n",
        "        if policy_stable:\n",
        "            break\n",
        "            \n",
        "    return policy, V"
      ],
      "execution_count": 0,
      "outputs": []
    },
    {
      "metadata": {
        "id": "37jp4zKIzEfo",
        "colab_type": "code",
        "outputId": "ef6742b1-2bca-499d-9be3-cf769e155e0a",
        "colab": {
          "base_uri": "https://localhost:8080/",
          "height": 187
        }
      },
      "cell_type": "code",
      "source": [
        "# Main\n",
        "policy, v = policy_improvement(env)\n",
        "# Print\n",
        "print(\"Policy (0=up, 1=right, 2=down, 3=left):\")\n",
        "for i in range(4):\n",
        "    for j in range(4):\n",
        "        print('%5d '%np.argmax(policy[i*4 + j]), end =\"\")\n",
        "    print()\n",
        "    \n",
        "print(\"Value Function:\")\n",
        "for i in range(4):\n",
        "    for j in range(4):\n",
        "        print('%5.1f '%v[i*4 + j], end =\"\")\n",
        "    print()"
      ],
      "execution_count": 0,
      "outputs": [
        {
          "output_type": "stream",
          "text": [
            "Policy (0=up, 1=right, 2=down, 3=left):\n",
            "    0     3     3     2 \n",
            "    0     0     0     2 \n",
            "    0     0     1     2 \n",
            "    0     1     1     0 \n",
            "Value Function:\n",
            "  0.0  -1.0  -2.0  -3.0 \n",
            " -1.0  -2.0  -3.0  -2.0 \n",
            " -2.0  -3.0  -2.0  -1.0 \n",
            " -3.0  -2.0  -1.0   0.0 \n"
          ],
          "name": "stdout"
        }
      ]
    },
    {
      "metadata": {
        "id": "1kE5M3_b7UwM",
        "colab_type": "text"
      },
      "cell_type": "markdown",
      "source": [
        "### Value Iteration"
      ]
    },
    {
      "metadata": {
        "id": "s5KN9fMW2_8z",
        "colab_type": "code",
        "colab": {}
      },
      "cell_type": "code",
      "source": [
        "def value_iteration(env, theta=0.0001, discount_factor=1.0):\n",
        "    \n",
        "    def get_q_function(s, V):\n",
        "        q = np.zeros(env.nA)\n",
        "        for a in range(env.nA):\n",
        "            for prob, n_s, reward, is_done in env.P[s][a]:\n",
        "                q[a] += prob * (reward + discount_factor * V[n_s])\n",
        "        return q\n",
        "    # Initialize value function\n",
        "    V = np.zeros(env.nS)\n",
        "    # Start iteration\n",
        "    while True:\n",
        "        delta = 0\n",
        "        for s in range(env.nS):\n",
        "            n_V = 0\n",
        "            # Calculate Q function\n",
        "            q = get_q_function(s, V)\n",
        "            n_V = np.max(q)\n",
        "            delta = max(delta, abs(V[s] - n_V))\n",
        "            # Update\n",
        "            V[s] = n_V\n",
        "        if delta < theta:\n",
        "            break\n",
        "            \n",
        "    # Make policy using optimal value function\n",
        "    policy = np.zeros([env.nS, env.nA])\n",
        "    for s in range(env.nS):\n",
        "        q = get_q_function(s, V)\n",
        "        argmax_q = np.argmax(q)\n",
        "        policy[s] = np.eye(env.nA)[argmax_q]\n",
        "\n",
        "    return policy, V"
      ],
      "execution_count": 0,
      "outputs": []
    },
    {
      "metadata": {
        "id": "d4fofj4_7ywU",
        "colab_type": "code",
        "outputId": "60a65970-5a14-4392-9fa6-bebaa4a0e009",
        "colab": {
          "base_uri": "https://localhost:8080/",
          "height": 187
        }
      },
      "cell_type": "code",
      "source": [
        "# Main\n",
        "policy, v = value_iteration(env)\n",
        "# Print\n",
        "print(\"Policy (0=up, 1=right, 2=down, 3=left):\")\n",
        "for i in range(4):\n",
        "    for j in range(4):\n",
        "        print('%5d '%np.argmax(policy[i*4 + j]), end =\"\")\n",
        "    print()\n",
        "    \n",
        "print(\"Value Function:\")\n",
        "for i in range(4):\n",
        "    for j in range(4):\n",
        "        print('%5.1f '%v[i*4 + j], end =\"\")\n",
        "    print()"
      ],
      "execution_count": 0,
      "outputs": [
        {
          "output_type": "stream",
          "text": [
            "Policy (0=up, 1=right, 2=down, 3=left):\n",
            "    0     3     3     2 \n",
            "    0     0     0     2 \n",
            "    0     0     1     2 \n",
            "    0     1     1     0 \n",
            "Value Function:\n",
            "  0.0  -1.0  -2.0  -3.0 \n",
            " -1.0  -2.0  -3.0  -2.0 \n",
            " -2.0  -3.0  -2.0  -1.0 \n",
            " -3.0  -2.0  -1.0   0.0 \n"
          ],
          "name": "stdout"
        }
      ]
    },
    {
      "metadata": {
        "id": "Y3FjXcR_kgcW",
        "colab_type": "code",
        "colab": {}
      },
      "cell_type": "code",
      "source": [
        ""
      ],
      "execution_count": 0,
      "outputs": []
    }
  ]
}