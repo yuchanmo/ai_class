{
  "nbformat": 4,
  "nbformat_minor": 0,
  "metadata": {
    "colab": {
      "name": "DP_exercise.ipynb",
      "version": "0.3.2",
      "provenance": [],
      "collapsed_sections": []
    },
    "kernelspec": {
      "name": "python3",
      "display_name": "Python 3"
    }
  },
  "cells": [
    {
      "metadata": {
        "id": "ZubEFKUqWVon",
        "colab_type": "text"
      },
      "cell_type": "markdown",
      "source": [
        "# Model-Based RL : Policy and Value Iteration using Dynamic Programming"
      ]
    },
    {
      "metadata": {
        "id": "rx3Z14pMlHc2",
        "colab_type": "code",
        "colab": {}
      },
      "cell_type": "code",
      "source": [
        "# Download scripts\n",
        "import urllib.request\n",
        "urllib.request.urlretrieve (\"https://gitlab.com/jongseokkim/rlplayground/raw/master/env/gridworld.py\", \"gridworld.py\")"
      ],
      "execution_count": 0,
      "outputs": []
    },
    {
      "metadata": {
        "id": "fn_9KxVnqdh9",
        "colab_type": "code",
        "colab": {}
      },
      "cell_type": "code",
      "source": [
        "# Import dependencies\n",
        "import numpy as np\n",
        "import sys\n",
        "from gridworld import GridworldEnv\n",
        "env = GridworldEnv()\n",
        "print(\"# state:\", env.nS, \"# action:\", env.nA)\n",
        "state = 1 \n",
        "action = 3 # 0: Up, 1: Right, 2: Down, 3: Left\n",
        "print(env.P[state][action])"
      ],
      "execution_count": 0,
      "outputs": []
    },
    {
      "metadata": {
        "id": "4ramEaw9lIEX",
        "colab_type": "text"
      },
      "cell_type": "markdown",
      "source": [
        "### Policy Evaluation"
      ]
    },
    {
      "metadata": {
        "id": "rtx6GJlJWE5H",
        "colab_type": "code",
        "colab": {}
      },
      "cell_type": "code",
      "source": [
        "def policy_eval(policy, env, discount_factor=1.0, theta=0.00001):\n",
        "    # Initialize value function\n",
        "    V = np.zeros(env.nS)\n",
        "    # [TODO] Update until converge\n",
        "    \n",
        "    return np.array(V)"
      ],
      "execution_count": 0,
      "outputs": []
    },
    {
      "metadata": {
        "id": "0R8_NxMgy9Fi",
        "colab_type": "code",
        "colab": {}
      },
      "cell_type": "code",
      "source": [
        "# Main\n",
        "random_policy = np.ones([env.nS, env.nA]) / env.nA\n",
        "v = policy_eval(random_policy, env)\n",
        "print(\"Value Function:\")\n",
        "for i in range(4):\n",
        "    for j in range(4):\n",
        "        print('%5.1f '%v[i*4 + j], end =\"\")\n",
        "    print()"
      ],
      "execution_count": 0,
      "outputs": []
    },
    {
      "metadata": {
        "id": "mP015Ss0y2V7",
        "colab_type": "text"
      },
      "cell_type": "markdown",
      "source": [
        "### Policy Iteration"
      ]
    },
    {
      "metadata": {
        "id": "WyMH1HJqrNjv",
        "colab_type": "code",
        "colab": {}
      },
      "cell_type": "code",
      "source": [
        "def policy_improvement(env, policy_eval_fn=policy_eval, discount_factor=1.0):\n",
        "    # Initialize policy\n",
        "    policy = np.ones([env.nS, env.nA]) / env.nA\n",
        "    # [TODO] Update until converge\n",
        "            \n",
        "    return policy, V"
      ],
      "execution_count": 0,
      "outputs": []
    },
    {
      "metadata": {
        "id": "37jp4zKIzEfo",
        "colab_type": "code",
        "colab": {}
      },
      "cell_type": "code",
      "source": [
        "# Main\n",
        "policy, v = policy_improvement(env)\n",
        "# Print\n",
        "print(\"Policy (0=up, 1=right, 2=down, 3=left):\")\n",
        "for i in range(4):\n",
        "    for j in range(4):\n",
        "        print('%5d '%np.argmax(policy[i*4 + j]), end =\"\")\n",
        "    print()\n",
        "    \n",
        "print(\"Value Function:\")\n",
        "for i in range(4):\n",
        "    for j in range(4):\n",
        "        print('%5.1f '%v[i*4 + j], end =\"\")\n",
        "    print()"
      ],
      "execution_count": 0,
      "outputs": []
    },
    {
      "metadata": {
        "id": "1kE5M3_b7UwM",
        "colab_type": "text"
      },
      "cell_type": "markdown",
      "source": [
        "### Value Iteration"
      ]
    },
    {
      "metadata": {
        "id": "s5KN9fMW2_8z",
        "colab_type": "code",
        "colab": {}
      },
      "cell_type": "code",
      "source": [
        "def value_iteration(env, theta=0.0001, discount_factor=1.0):\n",
        "    \n",
        "    def get_q_function(s, V):\n",
        "        q = np.zeros(env.nA)\n",
        "        # [TODO] Find q function given state, value function\n",
        "        \n",
        "        return q\n",
        "    # Initialize value function\n",
        "    V = np.zeros(env.nS)\n",
        "    # [TODO] Update until converge\n",
        "            \n",
        "    # Make policy using optimal value function\n",
        "    policy = np.zeros([env.nS, env.nA])\n",
        "    for s in range(env.nS):\n",
        "        q = get_q_function(s, V)\n",
        "        argmax_q = np.argmax(q)\n",
        "        policy[s] = np.eye(env.nA)[argmax_q]\n",
        "\n",
        "    return policy, V"
      ],
      "execution_count": 0,
      "outputs": []
    },
    {
      "metadata": {
        "id": "d4fofj4_7ywU",
        "colab_type": "code",
        "colab": {}
      },
      "cell_type": "code",
      "source": [
        "# Main\n",
        "policy, v = value_iteration(env)\n",
        "# Print\n",
        "print(\"Policy (0=up, 1=right, 2=down, 3=left):\")\n",
        "for i in range(4):\n",
        "    for j in range(4):\n",
        "        print('%5d '%np.argmax(policy[i*4 + j]), end =\"\")\n",
        "    print()\n",
        "    \n",
        "print(\"Value Function:\")\n",
        "for i in range(4):\n",
        "    for j in range(4):\n",
        "        print('%5.1f '%v[i*4 + j], end =\"\")\n",
        "    print()"
      ],
      "execution_count": 0,
      "outputs": []
    },
    {
      "metadata": {
        "id": "Y3FjXcR_kgcW",
        "colab_type": "code",
        "colab": {}
      },
      "cell_type": "code",
      "source": [
        ""
      ],
      "execution_count": 0,
      "outputs": []
    }
  ]
}